{
 "cells": [
  {
   "cell_type": "markdown",
   "metadata": {
    "_uuid": "010bf459a883626f066949969b9b0b7c95201bc4"
   },
   "source": [
    "# **Airbnb Content-Based Recommendation System**\n",
    "\n",
    "![](https://assets3.thrillist.com/v1/image/1451130/size/tmg-article_main_wide_2x.jpg)\n",
    "\n",
    "## **Introduction**\n",
    "In this notebook, I will attempt at implementing a recommendation algorithms (content-based). Here we will use listings data from Airbnb around Seattle area. The engine will learn from:\n",
    "1. id: listings id for every room around Seattle\n",
    "2. name: the title of room listings\n",
    "3. description: details given by the host to describe their rooms\n",
    "\n",
    "## **Objective:** \n",
    "* Learning from data and recommend the best rooms around Seattle to users, based on content similarities (name and description)\n",
    "* Providing more room options and increasing personalization to prospective guests"
   ]
  },
  {
   "cell_type": "code",
   "execution_count": 1,
   "metadata": {},
   "outputs": [],
   "source": [
    "import sys\n",
    "sys.path.insert(0, \"/home/apprenant/PycharmProjects/Foodflix_part_2\")"
   ]
  },
  {
   "cell_type": "code",
   "execution_count": 2,
   "metadata": {
    "_cell_guid": "b1076dfc-b9ad-4769-8c92-a6c4dae69d19",
    "_uuid": "8f2839f25d086af736a60e9eeb907d3b93b6e0e5"
   },
   "outputs": [],
   "source": [
    "# Importing the libraries\n",
    "import pandas as pd\n",
    "from IPython.display import Image, HTML\n",
    "import matplotlib.pyplot as plt\n",
    "from sklearn.feature_extraction.text import TfidfVectorizer\n",
    "from sklearn.metrics.pairwise import linear_kernel"
   ]
  },
  {
   "cell_type": "code",
   "execution_count": 3,
   "metadata": {},
   "outputs": [
    {
     "ename": "ModuleNotFoundError",
     "evalue": "No module named 'wordcloud'",
     "output_type": "error",
     "traceback": [
      "\u001b[0;31m---------------------------------------------------------------------------\u001b[0m",
      "\u001b[0;31mModuleNotFoundError\u001b[0m                       Traceback (most recent call last)",
      "\u001b[0;32m<ipython-input-3-09aeca815748>\u001b[0m in \u001b[0;36m<module>\u001b[0;34m\u001b[0m\n\u001b[0;32m----> 1\u001b[0;31m \u001b[0;32mfrom\u001b[0m \u001b[0mwordcloud\u001b[0m \u001b[0;32mimport\u001b[0m \u001b[0mWordCloud\u001b[0m\u001b[0;34m,\u001b[0m \u001b[0mSTOPWORDS\u001b[0m\u001b[0;34m\u001b[0m\u001b[0;34m\u001b[0m\u001b[0m\n\u001b[0m",
      "\u001b[0;31mModuleNotFoundError\u001b[0m: No module named 'wordcloud'"
     ]
    }
   ],
   "source": [
    "from wordcloud import WordCloud, STOPWORDS"
   ]
  },
  {
   "cell_type": "code",
   "execution_count": 4,
   "metadata": {
    "_cell_guid": "79c7e3d0-c299-4dcb-8224-4455121ee9b0",
    "_uuid": "d629ff2d2480ee46fbb7e2d37f6b5fab8052498a"
   },
   "outputs": [
    {
     "data": {
      "text/html": [
       "<div>\n",
       "<style scoped>\n",
       "    .dataframe tbody tr th:only-of-type {\n",
       "        vertical-align: middle;\n",
       "    }\n",
       "\n",
       "    .dataframe tbody tr th {\n",
       "        vertical-align: top;\n",
       "    }\n",
       "\n",
       "    .dataframe thead th {\n",
       "        text-align: right;\n",
       "    }\n",
       "</style>\n",
       "<table border=\"1\" class=\"dataframe\">\n",
       "  <thead>\n",
       "    <tr style=\"text-align: right;\">\n",
       "      <th></th>\n",
       "      <th>Unnamed: 0</th>\n",
       "      <th>product_name</th>\n",
       "      <th>generic_name</th>\n",
       "      <th>brands</th>\n",
       "      <th>categories</th>\n",
       "      <th>countries</th>\n",
       "      <th>nutrition_grade_fr</th>\n",
       "      <th>energy_100g</th>\n",
       "      <th>energy-from-fat_100g</th>\n",
       "      <th>fat_100g</th>\n",
       "      <th>...</th>\n",
       "      <th>-maltose_100g</th>\n",
       "      <th>-maltodextrins_100g</th>\n",
       "      <th>fiber_100g</th>\n",
       "      <th>proteins_100g</th>\n",
       "      <th>salt_100g</th>\n",
       "      <th>sodium_100g</th>\n",
       "      <th>fruits-vegetables-nuts_100g</th>\n",
       "      <th>nutrition-score-fr_100g</th>\n",
       "      <th>nutrition-score-uk_100g</th>\n",
       "      <th>Missing_100g</th>\n",
       "    </tr>\n",
       "  </thead>\n",
       "  <tbody>\n",
       "    <tr>\n",
       "      <th>0</th>\n",
       "      <td>185</td>\n",
       "      <td>Root Beer</td>\n",
       "      <td>NaN</td>\n",
       "      <td>A&amp;W</td>\n",
       "      <td>Boissons,Boissons gazeuses,Sodas,Boissons sucr...</td>\n",
       "      <td>France</td>\n",
       "      <td>e</td>\n",
       "      <td>215.0</td>\n",
       "      <td>NaN</td>\n",
       "      <td>0.0</td>\n",
       "      <td>...</td>\n",
       "      <td>NaN</td>\n",
       "      <td>NaN</td>\n",
       "      <td>0.0</td>\n",
       "      <td>0.0</td>\n",
       "      <td>0.0616</td>\n",
       "      <td>0.024200</td>\n",
       "      <td>NaN</td>\n",
       "      <td>18.0</td>\n",
       "      <td>3.0</td>\n",
       "      <td>1</td>\n",
       "    </tr>\n",
       "    <tr>\n",
       "      <th>1</th>\n",
       "      <td>189</td>\n",
       "      <td>Gotta-have grape, seriously strawberry flavor</td>\n",
       "      <td>Bonbons acidulés Raisin Fraise</td>\n",
       "      <td>Nerds</td>\n",
       "      <td>Snacks sucrés,Confiseries,Bonbons</td>\n",
       "      <td>France</td>\n",
       "      <td>d</td>\n",
       "      <td>1667.0</td>\n",
       "      <td>NaN</td>\n",
       "      <td>0.0</td>\n",
       "      <td>...</td>\n",
       "      <td>NaN</td>\n",
       "      <td>NaN</td>\n",
       "      <td>NaN</td>\n",
       "      <td>0.0</td>\n",
       "      <td>0.0000</td>\n",
       "      <td>0.000000</td>\n",
       "      <td>NaN</td>\n",
       "      <td>14.0</td>\n",
       "      <td>14.0</td>\n",
       "      <td>2</td>\n",
       "    </tr>\n",
       "    <tr>\n",
       "      <th>2</th>\n",
       "      <td>190</td>\n",
       "      <td>Thé noir aromatisé violette et fleurs</td>\n",
       "      <td>NaN</td>\n",
       "      <td>Alice Délice</td>\n",
       "      <td>en:beverages</td>\n",
       "      <td>France</td>\n",
       "      <td>c</td>\n",
       "      <td>17.0</td>\n",
       "      <td>NaN</td>\n",
       "      <td>0.1</td>\n",
       "      <td>...</td>\n",
       "      <td>NaN</td>\n",
       "      <td>NaN</td>\n",
       "      <td>NaN</td>\n",
       "      <td>0.1</td>\n",
       "      <td>0.0010</td>\n",
       "      <td>0.000394</td>\n",
       "      <td>NaN</td>\n",
       "      <td>2.0</td>\n",
       "      <td>0.0</td>\n",
       "      <td>2</td>\n",
       "    </tr>\n",
       "    <tr>\n",
       "      <th>3</th>\n",
       "      <td>193</td>\n",
       "      <td>Preparation mug cake chocolat-caramel au beurr...</td>\n",
       "      <td>NaN</td>\n",
       "      <td>Alice Délice</td>\n",
       "      <td>NaN</td>\n",
       "      <td>France</td>\n",
       "      <td>e</td>\n",
       "      <td>1632.0</td>\n",
       "      <td>NaN</td>\n",
       "      <td>7.0</td>\n",
       "      <td>...</td>\n",
       "      <td>NaN</td>\n",
       "      <td>NaN</td>\n",
       "      <td>0.0</td>\n",
       "      <td>7.0</td>\n",
       "      <td>0.9750</td>\n",
       "      <td>0.383858</td>\n",
       "      <td>NaN</td>\n",
       "      <td>21.0</td>\n",
       "      <td>21.0</td>\n",
       "      <td>1</td>\n",
       "    </tr>\n",
       "    <tr>\n",
       "      <th>4</th>\n",
       "      <td>194</td>\n",
       "      <td>Mini Confettis</td>\n",
       "      <td>NaN</td>\n",
       "      <td>Alice Délice</td>\n",
       "      <td>NaN</td>\n",
       "      <td>France</td>\n",
       "      <td>d</td>\n",
       "      <td>1753.0</td>\n",
       "      <td>NaN</td>\n",
       "      <td>NaN</td>\n",
       "      <td>...</td>\n",
       "      <td>NaN</td>\n",
       "      <td>NaN</td>\n",
       "      <td>0.9</td>\n",
       "      <td>0.6</td>\n",
       "      <td>0.0100</td>\n",
       "      <td>0.003937</td>\n",
       "      <td>NaN</td>\n",
       "      <td>14.0</td>\n",
       "      <td>14.0</td>\n",
       "      <td>3</td>\n",
       "    </tr>\n",
       "    <tr>\n",
       "      <th>5</th>\n",
       "      <td>195</td>\n",
       "      <td>Praliné Amande Et Noisette</td>\n",
       "      <td>NaN</td>\n",
       "      <td>Alice Délice</td>\n",
       "      <td>NaN</td>\n",
       "      <td>France</td>\n",
       "      <td>d</td>\n",
       "      <td>2406.0</td>\n",
       "      <td>NaN</td>\n",
       "      <td>NaN</td>\n",
       "      <td>...</td>\n",
       "      <td>NaN</td>\n",
       "      <td>NaN</td>\n",
       "      <td>3.9</td>\n",
       "      <td>9.5</td>\n",
       "      <td>0.0030</td>\n",
       "      <td>0.001181</td>\n",
       "      <td>NaN</td>\n",
       "      <td>14.0</td>\n",
       "      <td>14.0</td>\n",
       "      <td>3</td>\n",
       "    </tr>\n",
       "    <tr>\n",
       "      <th>6</th>\n",
       "      <td>231</td>\n",
       "      <td>Pepsi, Nouveau goût !</td>\n",
       "      <td>Boisson gazeuse rafraîchissante aux extraits n...</td>\n",
       "      <td>Pepsi</td>\n",
       "      <td>Sodas au cola</td>\n",
       "      <td>France</td>\n",
       "      <td>e</td>\n",
       "      <td>177.0</td>\n",
       "      <td>NaN</td>\n",
       "      <td>0.0</td>\n",
       "      <td>...</td>\n",
       "      <td>NaN</td>\n",
       "      <td>NaN</td>\n",
       "      <td>0.0</td>\n",
       "      <td>0.0</td>\n",
       "      <td>0.0254</td>\n",
       "      <td>0.010000</td>\n",
       "      <td>NaN</td>\n",
       "      <td>13.0</td>\n",
       "      <td>2.0</td>\n",
       "      <td>1</td>\n",
       "    </tr>\n",
       "    <tr>\n",
       "      <th>7</th>\n",
       "      <td>238</td>\n",
       "      <td>Blle Pet 50CL Coca Cola Cherry</td>\n",
       "      <td>NaN</td>\n",
       "      <td>Coca-Cola</td>\n",
       "      <td>en:beverages</td>\n",
       "      <td>France</td>\n",
       "      <td>e</td>\n",
       "      <td>180.0</td>\n",
       "      <td>NaN</td>\n",
       "      <td>0.1</td>\n",
       "      <td>...</td>\n",
       "      <td>NaN</td>\n",
       "      <td>NaN</td>\n",
       "      <td>NaN</td>\n",
       "      <td>0.0</td>\n",
       "      <td>0.0000</td>\n",
       "      <td>0.000000</td>\n",
       "      <td>NaN</td>\n",
       "      <td>14.0</td>\n",
       "      <td>2.0</td>\n",
       "      <td>2</td>\n",
       "    </tr>\n",
       "    <tr>\n",
       "      <th>8</th>\n",
       "      <td>240</td>\n",
       "      <td>Crêpes jambon fromage</td>\n",
       "      <td>NaN</td>\n",
       "      <td>Bo Frost</td>\n",
       "      <td>NaN</td>\n",
       "      <td>France</td>\n",
       "      <td>b</td>\n",
       "      <td>678.0</td>\n",
       "      <td>NaN</td>\n",
       "      <td>6.6</td>\n",
       "      <td>...</td>\n",
       "      <td>NaN</td>\n",
       "      <td>NaN</td>\n",
       "      <td>0.9</td>\n",
       "      <td>8.2</td>\n",
       "      <td>0.7300</td>\n",
       "      <td>0.287402</td>\n",
       "      <td>NaN</td>\n",
       "      <td>0.0</td>\n",
       "      <td>0.0</td>\n",
       "      <td>1</td>\n",
       "    </tr>\n",
       "    <tr>\n",
       "      <th>9</th>\n",
       "      <td>242</td>\n",
       "      <td>Tarte Poireaux Et Lardons</td>\n",
       "      <td>NaN</td>\n",
       "      <td>Bo Frost</td>\n",
       "      <td>NaN</td>\n",
       "      <td>France</td>\n",
       "      <td>d</td>\n",
       "      <td>1079.0</td>\n",
       "      <td>NaN</td>\n",
       "      <td>NaN</td>\n",
       "      <td>...</td>\n",
       "      <td>NaN</td>\n",
       "      <td>NaN</td>\n",
       "      <td>1.4</td>\n",
       "      <td>7.5</td>\n",
       "      <td>0.8000</td>\n",
       "      <td>0.314961</td>\n",
       "      <td>NaN</td>\n",
       "      <td>15.0</td>\n",
       "      <td>15.0</td>\n",
       "      <td>3</td>\n",
       "    </tr>\n",
       "  </tbody>\n",
       "</table>\n",
       "<p>10 rows × 27 columns</p>\n",
       "</div>"
      ],
      "text/plain": [
       "   Unnamed: 0                                       product_name  \\\n",
       "0         185                                          Root Beer   \n",
       "1         189      Gotta-have grape, seriously strawberry flavor   \n",
       "2         190              Thé noir aromatisé violette et fleurs   \n",
       "3         193  Preparation mug cake chocolat-caramel au beurr...   \n",
       "4         194                                     Mini Confettis   \n",
       "5         195                         Praliné Amande Et Noisette   \n",
       "6         231                              Pepsi, Nouveau goût !   \n",
       "7         238                     Blle Pet 50CL Coca Cola Cherry   \n",
       "8         240                              Crêpes jambon fromage   \n",
       "9         242                          Tarte Poireaux Et Lardons   \n",
       "\n",
       "                                        generic_name        brands  \\\n",
       "0                                                NaN           A&W   \n",
       "1                     Bonbons acidulés Raisin Fraise         Nerds   \n",
       "2                                                NaN  Alice Délice   \n",
       "3                                                NaN  Alice Délice   \n",
       "4                                                NaN  Alice Délice   \n",
       "5                                                NaN  Alice Délice   \n",
       "6  Boisson gazeuse rafraîchissante aux extraits n...         Pepsi   \n",
       "7                                                NaN     Coca-Cola   \n",
       "8                                                NaN      Bo Frost   \n",
       "9                                                NaN      Bo Frost   \n",
       "\n",
       "                                          categories countries  \\\n",
       "0  Boissons,Boissons gazeuses,Sodas,Boissons sucr...    France   \n",
       "1                  Snacks sucrés,Confiseries,Bonbons    France   \n",
       "2                                       en:beverages    France   \n",
       "3                                                NaN    France   \n",
       "4                                                NaN    France   \n",
       "5                                                NaN    France   \n",
       "6                                      Sodas au cola    France   \n",
       "7                                       en:beverages    France   \n",
       "8                                                NaN    France   \n",
       "9                                                NaN    France   \n",
       "\n",
       "  nutrition_grade_fr  energy_100g  energy-from-fat_100g  fat_100g  ...  \\\n",
       "0                  e        215.0                   NaN       0.0  ...   \n",
       "1                  d       1667.0                   NaN       0.0  ...   \n",
       "2                  c         17.0                   NaN       0.1  ...   \n",
       "3                  e       1632.0                   NaN       7.0  ...   \n",
       "4                  d       1753.0                   NaN       NaN  ...   \n",
       "5                  d       2406.0                   NaN       NaN  ...   \n",
       "6                  e        177.0                   NaN       0.0  ...   \n",
       "7                  e        180.0                   NaN       0.1  ...   \n",
       "8                  b        678.0                   NaN       6.6  ...   \n",
       "9                  d       1079.0                   NaN       NaN  ...   \n",
       "\n",
       "   -maltose_100g  -maltodextrins_100g  fiber_100g  proteins_100g  salt_100g  \\\n",
       "0            NaN                  NaN         0.0            0.0     0.0616   \n",
       "1            NaN                  NaN         NaN            0.0     0.0000   \n",
       "2            NaN                  NaN         NaN            0.1     0.0010   \n",
       "3            NaN                  NaN         0.0            7.0     0.9750   \n",
       "4            NaN                  NaN         0.9            0.6     0.0100   \n",
       "5            NaN                  NaN         3.9            9.5     0.0030   \n",
       "6            NaN                  NaN         0.0            0.0     0.0254   \n",
       "7            NaN                  NaN         NaN            0.0     0.0000   \n",
       "8            NaN                  NaN         0.9            8.2     0.7300   \n",
       "9            NaN                  NaN         1.4            7.5     0.8000   \n",
       "\n",
       "   sodium_100g  fruits-vegetables-nuts_100g  nutrition-score-fr_100g  \\\n",
       "0     0.024200                          NaN                     18.0   \n",
       "1     0.000000                          NaN                     14.0   \n",
       "2     0.000394                          NaN                      2.0   \n",
       "3     0.383858                          NaN                     21.0   \n",
       "4     0.003937                          NaN                     14.0   \n",
       "5     0.001181                          NaN                     14.0   \n",
       "6     0.010000                          NaN                     13.0   \n",
       "7     0.000000                          NaN                     14.0   \n",
       "8     0.287402                          NaN                      0.0   \n",
       "9     0.314961                          NaN                     15.0   \n",
       "\n",
       "   nutrition-score-uk_100g  Missing_100g  \n",
       "0                      3.0             1  \n",
       "1                     14.0             2  \n",
       "2                      0.0             2  \n",
       "3                     21.0             1  \n",
       "4                     14.0             3  \n",
       "5                     14.0             3  \n",
       "6                      2.0             1  \n",
       "7                      2.0             2  \n",
       "8                      0.0             1  \n",
       "9                     15.0             3  \n",
       "\n",
       "[10 rows x 27 columns]"
      ]
     },
     "execution_count": 4,
     "metadata": {},
     "output_type": "execute_result"
    }
   ],
   "source": [
    "# Importing the dataset\n",
    "df = pd.read_csv('../Data/intermediate.csv', nrows=20000)\n",
    "df.head(10)"
   ]
  },
  {
   "cell_type": "code",
   "execution_count": 5,
   "metadata": {},
   "outputs": [],
   "source": [
    "cols=['product_name', 'generic_name', 'brands', 'categories']\n",
    "df=df[cols]"
   ]
  },
  {
   "cell_type": "code",
   "execution_count": 6,
   "metadata": {},
   "outputs": [
    {
     "data": {
      "text/html": [
       "<div>\n",
       "<style scoped>\n",
       "    .dataframe tbody tr th:only-of-type {\n",
       "        vertical-align: middle;\n",
       "    }\n",
       "\n",
       "    .dataframe tbody tr th {\n",
       "        vertical-align: top;\n",
       "    }\n",
       "\n",
       "    .dataframe thead th {\n",
       "        text-align: right;\n",
       "    }\n",
       "</style>\n",
       "<table border=\"1\" class=\"dataframe\">\n",
       "  <thead>\n",
       "    <tr style=\"text-align: right;\">\n",
       "      <th></th>\n",
       "      <th>product_name</th>\n",
       "      <th>generic_name</th>\n",
       "      <th>brands</th>\n",
       "      <th>categories</th>\n",
       "    </tr>\n",
       "  </thead>\n",
       "  <tbody>\n",
       "    <tr>\n",
       "      <th>0</th>\n",
       "      <td>Root Beer</td>\n",
       "      <td>NaN</td>\n",
       "      <td>A&amp;W</td>\n",
       "      <td>Boissons,Boissons gazeuses,Sodas,Boissons sucr...</td>\n",
       "    </tr>\n",
       "    <tr>\n",
       "      <th>1</th>\n",
       "      <td>Gotta-have grape, seriously strawberry flavor</td>\n",
       "      <td>Bonbons acidulés Raisin Fraise</td>\n",
       "      <td>Nerds</td>\n",
       "      <td>Snacks sucrés,Confiseries,Bonbons</td>\n",
       "    </tr>\n",
       "    <tr>\n",
       "      <th>2</th>\n",
       "      <td>Thé noir aromatisé violette et fleurs</td>\n",
       "      <td>NaN</td>\n",
       "      <td>Alice Délice</td>\n",
       "      <td>en:beverages</td>\n",
       "    </tr>\n",
       "    <tr>\n",
       "      <th>3</th>\n",
       "      <td>Preparation mug cake chocolat-caramel au beurr...</td>\n",
       "      <td>NaN</td>\n",
       "      <td>Alice Délice</td>\n",
       "      <td>NaN</td>\n",
       "    </tr>\n",
       "    <tr>\n",
       "      <th>4</th>\n",
       "      <td>Mini Confettis</td>\n",
       "      <td>NaN</td>\n",
       "      <td>Alice Délice</td>\n",
       "      <td>NaN</td>\n",
       "    </tr>\n",
       "  </tbody>\n",
       "</table>\n",
       "</div>"
      ],
      "text/plain": [
       "                                        product_name  \\\n",
       "0                                          Root Beer   \n",
       "1      Gotta-have grape, seriously strawberry flavor   \n",
       "2              Thé noir aromatisé violette et fleurs   \n",
       "3  Preparation mug cake chocolat-caramel au beurr...   \n",
       "4                                     Mini Confettis   \n",
       "\n",
       "                     generic_name        brands  \\\n",
       "0                             NaN           A&W   \n",
       "1  Bonbons acidulés Raisin Fraise         Nerds   \n",
       "2                             NaN  Alice Délice   \n",
       "3                             NaN  Alice Délice   \n",
       "4                             NaN  Alice Délice   \n",
       "\n",
       "                                          categories  \n",
       "0  Boissons,Boissons gazeuses,Sodas,Boissons sucr...  \n",
       "1                  Snacks sucrés,Confiseries,Bonbons  \n",
       "2                                       en:beverages  \n",
       "3                                                NaN  \n",
       "4                                                NaN  "
      ]
     },
     "execution_count": 6,
     "metadata": {},
     "output_type": "execute_result"
    }
   ],
   "source": [
    "df.head()"
   ]
  },
  {
   "cell_type": "code",
   "execution_count": 7,
   "metadata": {},
   "outputs": [
    {
     "data": {
      "text/plain": [
       "product_name        0\n",
       "generic_name    12030\n",
       "brands            171\n",
       "categories       6982\n",
       "dtype: int64"
      ]
     },
     "execution_count": 7,
     "metadata": {},
     "output_type": "execute_result"
    }
   ],
   "source": [
    "df.isna().sum()"
   ]
  },
  {
   "cell_type": "code",
   "execution_count": 8,
   "metadata": {},
   "outputs": [
    {
     "data": {
      "text/plain": [
       "product_name    object\n",
       "generic_name    object\n",
       "brands          object\n",
       "categories      object\n",
       "dtype: object"
      ]
     },
     "execution_count": 8,
     "metadata": {},
     "output_type": "execute_result"
    }
   ],
   "source": [
    "df.dtypes"
   ]
  },
  {
   "cell_type": "markdown",
   "metadata": {
    "_uuid": "90e96e63e1a6665447989925359685b081fac0e6"
   },
   "source": [
    "## Exploratory Data Analysis\n",
    "Are there certain words that figure more often in listings' name and description? I suspect there are some words which are occured more frequently and considered more worthy of a title. Let us find out!"
   ]
  },
  {
   "cell_type": "code",
   "execution_count": 11,
   "metadata": {
    "_uuid": "33533e66970de8f6483e49c4f6475d0bd5893ef5"
   },
   "outputs": [],
   "source": [
    "#df['product_name'] = df['product_name'].astype('str')\n",
    "#df['description'] = df['description'].astype('str')"
   ]
  },
  {
   "cell_type": "code",
   "execution_count": 13,
   "metadata": {
    "_uuid": "25ed6a80f3d760a6970ee249837f54b0bfbfbd9a"
   },
   "outputs": [],
   "source": [
    "name_cols = ['product_name', 'generic_name']\n",
    "name_corpus = ' '.join(df[name_cols])\n",
    "\n",
    "description_cols=['brands', 'categories']\n",
    "description_corpus = ' '.join(df[description_cols])"
   ]
  },
  {
   "cell_type": "code",
   "execution_count": null,
   "metadata": {
    "_uuid": "f32680166bb539e39d0b16413e156e9da28663aa"
   },
   "outputs": [],
   "source": [
    "name_wordcloud = WordCloud(stopwords = STOPWORDS, background_color = 'white', height = 2000, width = 4000).generate(name_corpus)\n",
    "plt.figure(figsize = (16,8))\n",
    "plt.imshow(name_wordcloud)\n",
    "plt.axis('off')\n",
    "plt.show()"
   ]
  },
  {
   "cell_type": "code",
   "execution_count": null,
   "metadata": {
    "_uuid": "33d5393d3e9475ce9abe0553fc146fde5bbdcf38"
   },
   "outputs": [],
   "source": [
    "description_wordcloud = WordCloud(stopwords = STOPWORDS, background_color = 'white', height = 2000, width = 4000).generate(description_corpus)\n",
    "plt.figure(figsize = (16,8))\n",
    "plt.imshow(description_wordcloud)\n",
    "plt.axis('off')\n",
    "plt.show()"
   ]
  },
  {
   "cell_type": "markdown",
   "metadata": {
    "_uuid": "b0a9722cde2a5313417db276610cc380c95eebdb"
   },
   "source": [
    "The most frequently words occurred in the name or title of listings are including: Seattle, Capitol Hill, View, Home, Cozy, etc. This obviously represents Seattle area data with common words in room listings. Unlike for the description, here some of the tops are already specific like: house, home, apartment, living room, space. They are typical words for hosts when describing their listings."
   ]
  },
  {
   "cell_type": "markdown",
   "metadata": {
    "_uuid": "2c48c1272597a32a810afcf55689ec1ec062635f"
   },
   "source": [
    "Now, we create a column containing a combination of name and description columns that is important for content-based recommendation system"
   ]
  },
  {
   "cell_type": "code",
   "execution_count": 9,
   "metadata": {
    "_uuid": "24786090f65381e080cb5f1b7b50f1fe981f5d3f"
   },
   "outputs": [],
   "source": [
    "df['content'] = df[['product_name', 'categories']].astype(str).apply(lambda x: ' // '.join(x), axis = 1)"
   ]
  },
  {
   "cell_type": "code",
   "execution_count": 10,
   "metadata": {},
   "outputs": [
    {
     "data": {
      "text/html": [
       "<div>\n",
       "<style scoped>\n",
       "    .dataframe tbody tr th:only-of-type {\n",
       "        vertical-align: middle;\n",
       "    }\n",
       "\n",
       "    .dataframe tbody tr th {\n",
       "        vertical-align: top;\n",
       "    }\n",
       "\n",
       "    .dataframe thead th {\n",
       "        text-align: right;\n",
       "    }\n",
       "</style>\n",
       "<table border=\"1\" class=\"dataframe\">\n",
       "  <thead>\n",
       "    <tr style=\"text-align: right;\">\n",
       "      <th></th>\n",
       "      <th>product_name</th>\n",
       "      <th>generic_name</th>\n",
       "      <th>brands</th>\n",
       "      <th>categories</th>\n",
       "      <th>content</th>\n",
       "    </tr>\n",
       "  </thead>\n",
       "  <tbody>\n",
       "    <tr>\n",
       "      <th>0</th>\n",
       "      <td>Root Beer</td>\n",
       "      <td>NaN</td>\n",
       "      <td>A&amp;W</td>\n",
       "      <td>Boissons,Boissons gazeuses,Sodas,Boissons sucr...</td>\n",
       "      <td>Root Beer // Boissons,Boissons gazeuses,Sodas,...</td>\n",
       "    </tr>\n",
       "    <tr>\n",
       "      <th>1</th>\n",
       "      <td>Gotta-have grape, seriously strawberry flavor</td>\n",
       "      <td>Bonbons acidulés Raisin Fraise</td>\n",
       "      <td>Nerds</td>\n",
       "      <td>Snacks sucrés,Confiseries,Bonbons</td>\n",
       "      <td>Gotta-have grape, seriously strawberry flavor ...</td>\n",
       "    </tr>\n",
       "    <tr>\n",
       "      <th>2</th>\n",
       "      <td>Thé noir aromatisé violette et fleurs</td>\n",
       "      <td>NaN</td>\n",
       "      <td>Alice Délice</td>\n",
       "      <td>en:beverages</td>\n",
       "      <td>Thé noir aromatisé violette et fleurs // en:be...</td>\n",
       "    </tr>\n",
       "    <tr>\n",
       "      <th>3</th>\n",
       "      <td>Preparation mug cake chocolat-caramel au beurr...</td>\n",
       "      <td>NaN</td>\n",
       "      <td>Alice Délice</td>\n",
       "      <td>NaN</td>\n",
       "      <td>Preparation mug cake chocolat-caramel au beurr...</td>\n",
       "    </tr>\n",
       "    <tr>\n",
       "      <th>4</th>\n",
       "      <td>Mini Confettis</td>\n",
       "      <td>NaN</td>\n",
       "      <td>Alice Délice</td>\n",
       "      <td>NaN</td>\n",
       "      <td>Mini Confettis // nan</td>\n",
       "    </tr>\n",
       "  </tbody>\n",
       "</table>\n",
       "</div>"
      ],
      "text/plain": [
       "                                        product_name  \\\n",
       "0                                          Root Beer   \n",
       "1      Gotta-have grape, seriously strawberry flavor   \n",
       "2              Thé noir aromatisé violette et fleurs   \n",
       "3  Preparation mug cake chocolat-caramel au beurr...   \n",
       "4                                     Mini Confettis   \n",
       "\n",
       "                     generic_name        brands  \\\n",
       "0                             NaN           A&W   \n",
       "1  Bonbons acidulés Raisin Fraise         Nerds   \n",
       "2                             NaN  Alice Délice   \n",
       "3                             NaN  Alice Délice   \n",
       "4                             NaN  Alice Délice   \n",
       "\n",
       "                                          categories  \\\n",
       "0  Boissons,Boissons gazeuses,Sodas,Boissons sucr...   \n",
       "1                  Snacks sucrés,Confiseries,Bonbons   \n",
       "2                                       en:beverages   \n",
       "3                                                NaN   \n",
       "4                                                NaN   \n",
       "\n",
       "                                             content  \n",
       "0  Root Beer // Boissons,Boissons gazeuses,Sodas,...  \n",
       "1  Gotta-have grape, seriously strawberry flavor ...  \n",
       "2  Thé noir aromatisé violette et fleurs // en:be...  \n",
       "3  Preparation mug cake chocolat-caramel au beurr...  \n",
       "4                              Mini Confettis // nan  "
      ]
     },
     "execution_count": 10,
     "metadata": {},
     "output_type": "execute_result"
    }
   ],
   "source": [
    "df.head()"
   ]
  },
  {
   "cell_type": "code",
   "execution_count": 11,
   "metadata": {
    "_uuid": "bbdb76acf1290be895936a04d4830295d0fe2b2e"
   },
   "outputs": [],
   "source": [
    "# Fillna\n",
    "df['content'].fillna('Null', inplace = True)"
   ]
  },
  {
   "cell_type": "code",
   "execution_count": 12,
   "metadata": {},
   "outputs": [
    {
     "data": {
      "text/html": [
       "<div>\n",
       "<style scoped>\n",
       "    .dataframe tbody tr th:only-of-type {\n",
       "        vertical-align: middle;\n",
       "    }\n",
       "\n",
       "    .dataframe tbody tr th {\n",
       "        vertical-align: top;\n",
       "    }\n",
       "\n",
       "    .dataframe thead th {\n",
       "        text-align: right;\n",
       "    }\n",
       "</style>\n",
       "<table border=\"1\" class=\"dataframe\">\n",
       "  <thead>\n",
       "    <tr style=\"text-align: right;\">\n",
       "      <th></th>\n",
       "      <th>product_name</th>\n",
       "      <th>generic_name</th>\n",
       "      <th>brands</th>\n",
       "      <th>categories</th>\n",
       "      <th>content</th>\n",
       "    </tr>\n",
       "  </thead>\n",
       "  <tbody>\n",
       "    <tr>\n",
       "      <th>0</th>\n",
       "      <td>Root Beer</td>\n",
       "      <td>NaN</td>\n",
       "      <td>A&amp;W</td>\n",
       "      <td>Boissons,Boissons gazeuses,Sodas,Boissons sucr...</td>\n",
       "      <td>Root Beer // Boissons,Boissons gazeuses,Sodas,...</td>\n",
       "    </tr>\n",
       "    <tr>\n",
       "      <th>1</th>\n",
       "      <td>Gotta-have grape, seriously strawberry flavor</td>\n",
       "      <td>Bonbons acidulés Raisin Fraise</td>\n",
       "      <td>Nerds</td>\n",
       "      <td>Snacks sucrés,Confiseries,Bonbons</td>\n",
       "      <td>Gotta-have grape, seriously strawberry flavor ...</td>\n",
       "    </tr>\n",
       "    <tr>\n",
       "      <th>2</th>\n",
       "      <td>Thé noir aromatisé violette et fleurs</td>\n",
       "      <td>NaN</td>\n",
       "      <td>Alice Délice</td>\n",
       "      <td>en:beverages</td>\n",
       "      <td>Thé noir aromatisé violette et fleurs // en:be...</td>\n",
       "    </tr>\n",
       "    <tr>\n",
       "      <th>3</th>\n",
       "      <td>Preparation mug cake chocolat-caramel au beurr...</td>\n",
       "      <td>NaN</td>\n",
       "      <td>Alice Délice</td>\n",
       "      <td>NaN</td>\n",
       "      <td>Preparation mug cake chocolat-caramel au beurr...</td>\n",
       "    </tr>\n",
       "    <tr>\n",
       "      <th>4</th>\n",
       "      <td>Mini Confettis</td>\n",
       "      <td>NaN</td>\n",
       "      <td>Alice Délice</td>\n",
       "      <td>NaN</td>\n",
       "      <td>Mini Confettis // nan</td>\n",
       "    </tr>\n",
       "  </tbody>\n",
       "</table>\n",
       "</div>"
      ],
      "text/plain": [
       "                                        product_name  \\\n",
       "0                                          Root Beer   \n",
       "1      Gotta-have grape, seriously strawberry flavor   \n",
       "2              Thé noir aromatisé violette et fleurs   \n",
       "3  Preparation mug cake chocolat-caramel au beurr...   \n",
       "4                                     Mini Confettis   \n",
       "\n",
       "                     generic_name        brands  \\\n",
       "0                             NaN           A&W   \n",
       "1  Bonbons acidulés Raisin Fraise         Nerds   \n",
       "2                             NaN  Alice Délice   \n",
       "3                             NaN  Alice Délice   \n",
       "4                             NaN  Alice Délice   \n",
       "\n",
       "                                          categories  \\\n",
       "0  Boissons,Boissons gazeuses,Sodas,Boissons sucr...   \n",
       "1                  Snacks sucrés,Confiseries,Bonbons   \n",
       "2                                       en:beverages   \n",
       "3                                                NaN   \n",
       "4                                                NaN   \n",
       "\n",
       "                                             content  \n",
       "0  Root Beer // Boissons,Boissons gazeuses,Sodas,...  \n",
       "1  Gotta-have grape, seriously strawberry flavor ...  \n",
       "2  Thé noir aromatisé violette et fleurs // en:be...  \n",
       "3  Preparation mug cake chocolat-caramel au beurr...  \n",
       "4                              Mini Confettis // nan  "
      ]
     },
     "execution_count": 12,
     "metadata": {},
     "output_type": "execute_result"
    }
   ],
   "source": [
    "df.head()"
   ]
  },
  {
   "cell_type": "code",
   "execution_count": 13,
   "metadata": {},
   "outputs": [
    {
     "data": {
      "text/plain": [
       "(20000, 5)"
      ]
     },
     "execution_count": 13,
     "metadata": {},
     "output_type": "execute_result"
    }
   ],
   "source": [
    "df.shape"
   ]
  },
  {
   "cell_type": "code",
   "execution_count": 14,
   "metadata": {},
   "outputs": [],
   "source": [
    "df[\"id\"] = df.index"
   ]
  },
  {
   "cell_type": "markdown",
   "metadata": {
    "_uuid": "7b587f098625e9574cd01dea425a6c3034a130e4"
   },
   "source": [
    "## Train the Recommender"
   ]
  },
  {
   "cell_type": "markdown",
   "metadata": {
    "_uuid": "f58e7590425b7ad9ae9ceb5679806ee9a9519e75"
   },
   "source": [
    "## TF-IDF (Term Frequency - Inverse Document Frequency)\n",
    "Create a TF-IDF matrix of unigrams and bigrams for each id or room. The “stop words” parameter tells the TF-IDF module to ignore common English words like 'the', ‘about’, etc.  TF-IDF will parse through the descriptions, identify distinct phrases in each item's description, and then find similar contents based on those phrases. Formula is below:\n",
    "\n",
    "𝑤_(𝑖,𝑗)=〖𝑡𝑓〗_(𝑖,𝑗)  x log⁡(𝑁/〖𝑑𝑓〗_𝑖 )\n",
    "\n",
    "\n",
    "𝑡𝑓〗_(𝑖,𝑗) = number of occurrences of i in j;\n",
    "〖𝑑𝑓〗_𝑖 = number of documents containing i;\n",
    "𝑁 = total number of documents"
   ]
  },
  {
   "cell_type": "code",
   "execution_count": 15,
   "metadata": {
    "_uuid": "8f6f46508b79886e53efd2b6b7fc7fb6d6efddaf"
   },
   "outputs": [],
   "source": [
    "tf = TfidfVectorizer(analyzer = 'word', ngram_range = (1, 2), min_df = 0, stop_words = 'english')\n",
    "tfidf_matrix = tf.fit_transform(df['content'])"
   ]
  },
  {
   "cell_type": "markdown",
   "metadata": {
    "_uuid": "251e20a3df62d467d6147111bdf0f0d1f7160795"
   },
   "source": [
    "## Cosine Similarity\n",
    "Cosine Similarity calculates similarity by measuring the cosine angle between two vectors. Vectors are converted from contents by TF-IDF and this measurement will identify which contents are closest to each other.\n"
   ]
  },
  {
   "cell_type": "code",
   "execution_count": 16,
   "metadata": {
    "_uuid": "e69f769a1587d7528cb789416d5cf445410dc24f"
   },
   "outputs": [],
   "source": [
    "cosine_similarities = linear_kernel(tfidf_matrix, tfidf_matrix)"
   ]
  },
  {
   "cell_type": "markdown",
   "metadata": {
    "_uuid": "1d3f60fc33d90d4e81d52ca676106a93ac35c189"
   },
   "source": [
    "Iterate through each item's similar items and store the 100 most-similar!"
   ]
  },
  {
   "cell_type": "code",
   "execution_count": 17,
   "metadata": {
    "_uuid": "715cf4d1237826b0993772b9af39310b85525611"
   },
   "outputs": [],
   "source": [
    "results = {}\n",
    "for idx, row in df.iterrows():\n",
    "    similar_indices = cosine_similarities[idx].argsort()[:-100:-1]\n",
    "    similar_items = [(cosine_similarities[idx][i], df['id'][i]) for i in similar_indices]\n",
    "    results[row['id']] = similar_items[1:]"
   ]
  },
  {
   "cell_type": "markdown",
   "metadata": {
    "_uuid": "4ffa255ac1c0ffc737f1c59772d2ba31005b2b65"
   },
   "source": [
    "## Let's make a prediction"
   ]
  },
  {
   "cell_type": "markdown",
   "metadata": {
    "_uuid": "5549cdf6abe006071360a8b6ab0baa79309203b0"
   },
   "source": [
    "Create two functions for showing the recommender results:\n",
    "1. Function to get a friendly item name and description from the content field, given an item ID\n",
    "2. Function to read the results out of the dictionary"
   ]
  },
  {
   "cell_type": "code",
   "execution_count": 18,
   "metadata": {
    "_uuid": "434a959d6f58117d93002a921204b78ace508686"
   },
   "outputs": [],
   "source": [
    "def item(id):\n",
    "    name   = df.loc[df['id'] == id]['content'].tolist()[0].split(' // ')[0]\n",
    "    desc   = ' \\nDescription: ' + df.loc[df['id'] == id]['content'].tolist()[0].split(' // ')[1][0:165] + '...'\n",
    "    prediction = name  + desc\n",
    "    return prediction\n",
    "\n",
    "def recommend(item_id, num):\n",
    "    print('Recommending ' + str(num) + ' products similar to ' + item(item_id))\n",
    "    print('---')\n",
    "    recs = results[item_id][:num]\n",
    "    for rec in recs:\n",
    "        print('\\nRecommended: ' + item(rec[1]) + '\\n(score:' + str(rec[0]) + ')')"
   ]
  },
  {
   "cell_type": "markdown",
   "metadata": {
    "_uuid": "9219625ecd3c9c43a5209d37630dfc02fd78c291"
   },
   "source": [
    "Finally, try to put an id from listings data and number of recommendation to show"
   ]
  },
  {
   "cell_type": "code",
   "execution_count": 19,
   "metadata": {
    "_uuid": "2bd699902cdd63648868106aaa20c7305b2b6d7a"
   },
   "outputs": [
    {
     "name": "stdout",
     "output_type": "stream",
     "text": [
      "Recommending 5 products similar to Preparation mug cake chocolat-caramel au beurre salé \n",
      "Description: nan...\n",
      "---\n",
      "\n",
      "Recommended: Caramel au beurre salé \n",
      "Description: nan...\n",
      "(score:0.6087937221862616)\n",
      "\n",
      "Recommended: Caramel beurre salé \n",
      "Description: nan...\n",
      "(score:0.4403439816325832)\n",
      "\n",
      "Recommended: Caramels au beurre salé \n",
      "Description: Chocolat,Caramel...\n",
      "(score:0.4078820348478259)\n",
      "\n",
      "Recommended: Crème Caramel Beurre Salé \n",
      "Description: nan...\n",
      "(score:0.3868191192630289)\n",
      "\n",
      "Recommended: Crème de Caramel au Beurre Salé au Sel de Guérande \n",
      "Description: Pâtes à tartiner au caramel...\n",
      "(score:0.30855836329767344)\n"
     ]
    }
   ],
   "source": [
    "recommend(item_id = 3, num = 5)"
   ]
  },
  {
   "cell_type": "markdown",
   "metadata": {},
   "source": [
    "## Moteur de recherche pour 1 produit"
   ]
  },
  {
   "cell_type": "code",
   "execution_count": 21,
   "metadata": {},
   "outputs": [
    {
     "name": "stdout",
     "output_type": "stream",
     "text": [
      "Chocolat\n"
     ]
    }
   ],
   "source": [
    "product = input()"
   ]
  },
  {
   "cell_type": "code",
   "execution_count": 22,
   "metadata": {},
   "outputs": [
    {
     "name": "stdout",
     "output_type": "stream",
     "text": [
      "Chocolat\n"
     ]
    }
   ],
   "source": [
    "print(product)"
   ]
  },
  {
   "cell_type": "code",
   "execution_count": 23,
   "metadata": {},
   "outputs": [],
   "source": [
    "tf = TfidfVectorizer(analyzer = 'word', ngram_range = (1, 2), min_df = 0, stop_words = 'english')\n",
    "tfidf_matrix = tf.fit_transform(df['content'])"
   ]
  },
  {
   "cell_type": "code",
   "execution_count": 24,
   "metadata": {},
   "outputs": [],
   "source": [
    "tfidf_product = tf.transform([product])"
   ]
  },
  {
   "cell_type": "code",
   "execution_count": 33,
   "metadata": {},
   "outputs": [],
   "source": [
    "cosine_similarities = linear_kernel(tfidf_product, tfidf_matrix)"
   ]
  },
  {
   "cell_type": "code",
   "execution_count": 34,
   "metadata": {
    "_uuid": "715cf4d1237826b0993772b9af39310b85525611"
   },
   "outputs": [],
   "source": [
    "results = {}\n",
    "similar_indices = cosine_similarities[0].argsort()[:-5:-1]\n",
    "similar_items = [(cosine_similarities[0][i], df['id'][i]) for i in similar_indices]\n",
    "results = similar_items"
   ]
  },
  {
   "cell_type": "code",
   "execution_count": 35,
   "metadata": {},
   "outputs": [
    {
     "name": "stdout",
     "output_type": "stream",
     "text": [
      "[(0.49308786889530515, 11618), (0.49308786889530515, 11390), (0.49308786889530515, 12390), (0.49308786889530515, 17657)]\n"
     ]
    }
   ],
   "source": [
    "print(results)"
   ]
  },
  {
   "cell_type": "code",
   "execution_count": 36,
   "metadata": {},
   "outputs": [
    {
     "name": "stdout",
     "output_type": "stream",
     "text": [
      "product_name           Chocolat\n",
      "generic_name                NaN\n",
      "brands                    Lindt\n",
      "categories                  NaN\n",
      "content         Chocolat // nan\n",
      "id                        11618\n",
      "Name: 11618, dtype: object\n",
      "product_name           Chocolat\n",
      "generic_name                NaN\n",
      "brands                    Milka\n",
      "categories                  NaN\n",
      "content         Chocolat // nan\n",
      "id                        11390\n",
      "Name: 11390, dtype: object\n",
      "product_name           Chocolat\n",
      "generic_name                NaN\n",
      "brands              Cacao Barry\n",
      "categories                  NaN\n",
      "content         Chocolat // nan\n",
      "id                        12390\n",
      "Name: 12390, dtype: object\n",
      "product_name           Chocolat\n",
      "generic_name                NaN\n",
      "brands                  Cacolac\n",
      "categories                  NaN\n",
      "content         Chocolat // nan\n",
      "id                        17657\n",
      "Name: 17657, dtype: object\n"
     ]
    }
   ],
   "source": [
    "for i in range(4):\n",
    "    print(df.iloc[results[i][1]])"
   ]
  },
  {
   "cell_type": "code",
   "execution_count": null,
   "metadata": {},
   "outputs": [],
   "source": []
  },
  {
   "cell_type": "code",
   "execution_count": null,
   "metadata": {},
   "outputs": [],
   "source": []
  },
  {
   "cell_type": "markdown",
   "metadata": {},
   "source": [
    "## les resultats que j'avais avant"
   ]
  },
  {
   "cell_type": "code",
   "execution_count": 114,
   "metadata": {},
   "outputs": [
    {
     "name": "stdout",
     "output_type": "stream",
     "text": [
      "[(1.0000000000000002, 19999), (0.43607050038135664, 11905), (0.4090458323517676, 8464), (0.4090458323517676, 8490)]\n"
     ]
    }
   ],
   "source": [
    "#print(results)"
   ]
  },
  {
   "cell_type": "markdown",
   "metadata": {},
   "source": [
    "[(1.0000000000000002, 19999), (0.43607050038135664, 11905), (0.4090458323517676, 8464), (0.4090458323517676, 8490)]\n"
   ]
  },
  {
   "cell_type": "code",
   "execution_count": 117,
   "metadata": {},
   "outputs": [
    {
     "name": "stdout",
     "output_type": "stream",
     "text": [
      "product_name                          Bat'o choc chocolat au lait\n",
      "generic_name                                                  NaN\n",
      "brands                                                     Casino\n",
      "categories                            Pockys,Biscuits au chocolat\n",
      "content         Bat'o choc chocolat au lait // Pockys,Biscuits...\n",
      "id                                                          19999\n",
      "Name: 19999, dtype: object\n",
      "product_name                              Pépito chocolat au lait\n",
      "generic_name                         Biscuits au chocolat au lait\n",
      "brands                                                         Lu\n",
      "categories      Biscuits au chocolat,Biscuits-au-chocolat-au-lait\n",
      "content         Pépito chocolat au lait // Biscuits au chocola...\n",
      "id                                                          11905\n",
      "Name: 11905, dtype: object\n",
      "product_name                             Granola Chocolat au Lait\n",
      "generic_name          Biscuits sablés nappés de chocolat au lait \n",
      "brands                                                Lu,Mondelez\n",
      "categories      Snacks sucrés,Biscuits et gâteaux,Biscuits,Bis...\n",
      "content         Granola Chocolat au Lait // Snacks sucrés,Bisc...\n",
      "id                                                           8464\n",
      "Name: 8464, dtype: object\n",
      "product_name                             Granola chocolat au lait\n",
      "generic_name           Biscuits sablés nappés de chocolat au lait\n",
      "brands                                                 Lu,Granola\n",
      "categories      Snacks sucrés,Biscuits et gâteaux,Biscuits,Bis...\n",
      "content         Granola chocolat au lait // Snacks sucrés,Bisc...\n",
      "id                                                           8490\n",
      "Name: 8490, dtype: object\n"
     ]
    }
   ],
   "source": [
    "# for i in range(4):\n",
    "#     print(df.iloc[results[i][1]])"
   ]
  },
  {
   "cell_type": "markdown",
   "metadata": {},
   "source": [
    "## Une façon de faire"
   ]
  },
  {
   "cell_type": "code",
   "execution_count": 209,
   "metadata": {},
   "outputs": [
    {
     "name": "stdout",
     "output_type": "stream",
     "text": [
      "Chocolat\n"
     ]
    }
   ],
   "source": [
    "product = input()"
   ]
  },
  {
   "cell_type": "code",
   "execution_count": 27,
   "metadata": {},
   "outputs": [
    {
     "name": "stdout",
     "output_type": "stream",
     "text": [
      "Chocolat\n"
     ]
    }
   ],
   "source": [
    "print(product)"
   ]
  },
  {
   "cell_type": "code",
   "execution_count": 28,
   "metadata": {},
   "outputs": [],
   "source": [
    "tf = TfidfVectorizer(analyzer = 'word', ngram_range = (1, 2), min_df = 0, stop_words = 'english')\n",
    "tfidf_matrix = tf.fit_transform(df['content'])"
   ]
  },
  {
   "cell_type": "code",
   "execution_count": 29,
   "metadata": {},
   "outputs": [],
   "source": [
    "tfidf_product = tf.transform([product])"
   ]
  },
  {
   "cell_type": "code",
   "execution_count": 30,
   "metadata": {},
   "outputs": [],
   "source": [
    "cosine_similarities = linear_kernel(tfidf_product, tfidf_matrix).flatten()"
   ]
  },
  {
   "cell_type": "code",
   "execution_count": 31,
   "metadata": {},
   "outputs": [
    {
     "name": "stdout",
     "output_type": "stream",
     "text": [
      "[11618 11390 12390 17657]\n"
     ]
    }
   ],
   "source": [
    "results2 = cosine_similarities.argsort()[:-5:-1]\n",
    "print(results2)"
   ]
  },
  {
   "cell_type": "code",
   "execution_count": 32,
   "metadata": {},
   "outputs": [
    {
     "name": "stdout",
     "output_type": "stream",
     "text": [
      "product_name           Chocolat\n",
      "generic_name                NaN\n",
      "brands                    Lindt\n",
      "categories                  NaN\n",
      "content         Chocolat // nan\n",
      "id                        11618\n",
      "Name: 11618, dtype: object\n",
      "product_name           Chocolat\n",
      "generic_name                NaN\n",
      "brands                    Milka\n",
      "categories                  NaN\n",
      "content         Chocolat // nan\n",
      "id                        11390\n",
      "Name: 11390, dtype: object\n",
      "product_name           Chocolat\n",
      "generic_name                NaN\n",
      "brands              Cacao Barry\n",
      "categories                  NaN\n",
      "content         Chocolat // nan\n",
      "id                        12390\n",
      "Name: 12390, dtype: object\n",
      "product_name           Chocolat\n",
      "generic_name                NaN\n",
      "brands                  Cacolac\n",
      "categories                  NaN\n",
      "content         Chocolat // nan\n",
      "id                        17657\n",
      "Name: 17657, dtype: object\n"
     ]
    }
   ],
   "source": [
    "for i in range(4):\n",
    "    print(df.iloc[results2[i]])"
   ]
  },
  {
   "cell_type": "code",
   "execution_count": 45,
   "metadata": {},
   "outputs": [
    {
     "name": "stdout",
     "output_type": "stream",
     "text": [
      "[product_name           Chocolat\n",
      "generic_name                NaN\n",
      "brands                    Lindt\n",
      "categories                  NaN\n",
      "content         Chocolat // nan\n",
      "id                        11618\n",
      "Name: 11618, dtype: object, product_name           Chocolat\n",
      "generic_name                NaN\n",
      "brands                    Milka\n",
      "categories                  NaN\n",
      "content         Chocolat // nan\n",
      "id                        11390\n",
      "Name: 11390, dtype: object, product_name           Chocolat\n",
      "generic_name                NaN\n",
      "brands              Cacao Barry\n",
      "categories                  NaN\n",
      "content         Chocolat // nan\n",
      "id                        12390\n",
      "Name: 12390, dtype: object, product_name           Chocolat\n",
      "generic_name                NaN\n",
      "brands                  Cacolac\n",
      "categories                  NaN\n",
      "content         Chocolat // nan\n",
      "id                        17657\n",
      "Name: 17657, dtype: object]\n"
     ]
    }
   ],
   "source": [
    "choices = []\n",
    "for i in range(4):\n",
    "    choices.append(df.iloc[results2[i]])\n",
    "print(choices)"
   ]
  },
  {
   "cell_type": "markdown",
   "metadata": {},
   "source": [
    "### Autre produit"
   ]
  },
  {
   "cell_type": "code",
   "execution_count": 217,
   "metadata": {},
   "outputs": [
    {
     "name": "stdout",
     "output_type": "stream",
     "text": [
      "caramel\n"
     ]
    }
   ],
   "source": [
    "product = input()"
   ]
  },
  {
   "cell_type": "code",
   "execution_count": 218,
   "metadata": {},
   "outputs": [
    {
     "name": "stdout",
     "output_type": "stream",
     "text": [
      "caramel\n"
     ]
    }
   ],
   "source": [
    "print(product)"
   ]
  },
  {
   "cell_type": "code",
   "execution_count": 219,
   "metadata": {},
   "outputs": [],
   "source": [
    "tf = TfidfVectorizer(analyzer = 'word', ngram_range = (1, 2), min_df = 0, stop_words = 'english')\n",
    "tfidf_matrix = tf.fit_transform(df['content'])"
   ]
  },
  {
   "cell_type": "code",
   "execution_count": 220,
   "metadata": {},
   "outputs": [],
   "source": [
    "tfidf_product = tf.transform([product])"
   ]
  },
  {
   "cell_type": "code",
   "execution_count": 221,
   "metadata": {},
   "outputs": [],
   "source": [
    "cosine_similarities = linear_kernel(tfidf_product, tfidf_matrix).flatten()"
   ]
  },
  {
   "cell_type": "code",
   "execution_count": 222,
   "metadata": {},
   "outputs": [
    {
     "name": "stdout",
     "output_type": "stream",
     "text": [
      "[ 9316  9476  9486 17205]\n"
     ]
    }
   ],
   "source": [
    "results2 = cosine_similarities.argsort()[:-5:-1]\n",
    "print(results2)"
   ]
  },
  {
   "cell_type": "code",
   "execution_count": 223,
   "metadata": {},
   "outputs": [
    {
     "name": "stdout",
     "output_type": "stream",
     "text": [
      "product_name                     Le Petit Pot de Crème au Caramel\n",
      "generic_name    Dessert lacté aux oeufs frais et caramel, cuit...\n",
      "brands                                         Nestlé,La Laitière\n",
      "categories                                 Crèmes dessert caramel\n",
      "content         Le Petit Pot de Crème au Caramel // Crèmes des...\n",
      "id                                                           9316\n",
      "Name: 9316, dtype: object\n",
      "product_name                           Velours de Crème (Caramel)\n",
      "generic_name                             Crème dessert au caramel\n",
      "brands                                         Nestlé,La Laitière\n",
      "categories      Frais,Produits laitiers,Desserts,Desserts lact...\n",
      "content         Velours de Crème (Caramel) // Frais,Produits l...\n",
      "id                                                           9476\n",
      "Name: 9476, dtype: object\n",
      "product_name                           Velours de Crème (Caramel)\n",
      "generic_name                             Crème dessert au caramel\n",
      "brands                                         Nestlé,La Laitière\n",
      "categories      Frais,Produits laitiers,Desserts,Desserts lact...\n",
      "content         Velours de Crème (Caramel) // Frais,Produits l...\n",
      "id                                                           9486\n",
      "Name: 9486, dtype: object\n",
      "product_name           Galettes Caramel\n",
      "generic_name                        NaN\n",
      "brands                        St Michel\n",
      "categories                          NaN\n",
      "content         Galettes Caramel // nan\n",
      "id                                17205\n",
      "Name: 17205, dtype: object\n"
     ]
    }
   ],
   "source": [
    "for i in range(4):\n",
    "    print(df.iloc[results2[i]])"
   ]
  },
  {
   "cell_type": "markdown",
   "metadata": {},
   "source": [
    "# Count Vectorizer"
   ]
  },
  {
   "cell_type": "code",
   "execution_count": 37,
   "metadata": {},
   "outputs": [],
   "source": [
    "from sklearn.feature_extraction.text import CountVectorizer"
   ]
  },
  {
   "cell_type": "code",
   "execution_count": 21,
   "metadata": {},
   "outputs": [
    {
     "name": "stdout",
     "output_type": "stream",
     "text": [
      "Chocolat\n"
     ]
    }
   ],
   "source": [
    "product = input()"
   ]
  },
  {
   "cell_type": "code",
   "execution_count": 38,
   "metadata": {},
   "outputs": [
    {
     "name": "stdout",
     "output_type": "stream",
     "text": [
      "Chocolat\n"
     ]
    }
   ],
   "source": [
    "print(product)"
   ]
  },
  {
   "cell_type": "code",
   "execution_count": 39,
   "metadata": {},
   "outputs": [],
   "source": [
    "vectorizer = CountVectorizer()\n",
    "vect_matrix = vectorizer.fit_transform(df['content'])"
   ]
  },
  {
   "cell_type": "code",
   "execution_count": 40,
   "metadata": {},
   "outputs": [],
   "source": [
    "vect_product = vectorizer.transform([product])"
   ]
  },
  {
   "cell_type": "code",
   "execution_count": 41,
   "metadata": {},
   "outputs": [],
   "source": [
    "cosine_similarities = linear_kernel(vect_product, vect_matrix)"
   ]
  },
  {
   "cell_type": "code",
   "execution_count": 42,
   "metadata": {
    "_uuid": "715cf4d1237826b0993772b9af39310b85525611"
   },
   "outputs": [],
   "source": [
    "results = {}\n",
    "similar_indices = cosine_similarities[0].argsort()[:-5:-1]\n",
    "similar_items = [(cosine_similarities[0][i], df['id'][i]) for i in similar_indices]\n",
    "results = similar_items"
   ]
  },
  {
   "cell_type": "code",
   "execution_count": 43,
   "metadata": {},
   "outputs": [
    {
     "name": "stdout",
     "output_type": "stream",
     "text": [
      "[(6.0, 359), (5.0, 17227), (4.0, 9497), (4.0, 9802)]\n"
     ]
    }
   ],
   "source": [
    "print(results)"
   ]
  },
  {
   "cell_type": "code",
   "execution_count": 44,
   "metadata": {},
   "outputs": [
    {
     "name": "stdout",
     "output_type": "stream",
     "text": [
      "product_name    Sundae Triple Chocolat avec du chocolat belge,...\n",
      "generic_name                                                  NaN\n",
      "brands                                            Marks & Spencer\n",
      "categories      Snacks sucrés,Produits laitiers,Desserts,Surge...\n",
      "content         Sundae Triple Chocolat avec du chocolat belge,...\n",
      "id                                                            359\n",
      "Name: 359, dtype: object\n",
      "product_name                               Crunchy Nappé Chocolat\n",
      "generic_name                                                  NaN\n",
      "brands                                                  St Michel\n",
      "categories      Snacks sucrés,Biscuits et gâteaux,Biscuits,Bis...\n",
      "content         Crunchy Nappé Chocolat // Snacks sucrés,Biscui...\n",
      "id                                                          17227\n",
      "Name: 17227, dtype: object\n",
      "product_name          Le Petit Pot de Crème au Chocolat (8 Pots) \n",
      "generic_name    Dessert lacté aux œufs et au chocolat, cuit au...\n",
      "brands                                         La Laitière,Nestlé\n",
      "categories      Frais,Produits laitiers,Desserts,Desserts au c...\n",
      "content         Le Petit Pot de Crème au Chocolat (8 Pots)  //...\n",
      "id                                                           9497\n",
      "Name: 9497, dtype: object\n",
      "product_name                                   Danette (Chocolat)\n",
      "generic_name                            Crème dessert au chocolat\n",
      "brands                                             Danone,Danette\n",
      "categories      Frais,Produits laitiers,Desserts,Desserts au c...\n",
      "content         Danette (Chocolat) // Frais,Produits laitiers,...\n",
      "id                                                           9802\n",
      "Name: 9802, dtype: object\n"
     ]
    }
   ],
   "source": [
    "for i in range(4):\n",
    "    print(df.iloc[results[i][1]])"
   ]
  },
  {
   "cell_type": "code",
   "execution_count": null,
   "metadata": {},
   "outputs": [],
   "source": []
  }
 ],
 "metadata": {
  "kernelspec": {
   "display_name": "Python 3",
   "language": "python",
   "name": "python3"
  },
  "language_info": {
   "codemirror_mode": {
    "name": "ipython",
    "version": 3
   },
   "file_extension": ".py",
   "mimetype": "text/x-python",
   "name": "python",
   "nbconvert_exporter": "python",
   "pygments_lexer": "ipython3",
   "version": "3.8.5"
  }
 },
 "nbformat": 4,
 "nbformat_minor": 1
}
